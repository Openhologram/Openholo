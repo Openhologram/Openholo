{
  "cells": [
    {
      "cell_type": "code",
      "execution_count": null,
      "metadata": {
        "id": "gR14PisSwJ1N"
      },
      "outputs": [],
      "source": [
        "# check package update\n",
        "!apt-get update\n",
        "# install cmake wget git\n",
        "!apt-get install -y cmake=3.22.1-1ubuntu1.22.04.2 wget git\n",
        "# install web gui library\n",
        "!pip install gradio\n",
        "# install run externel process\n",
        "!pip install subprocess.run==0.0.8\n",
        "# remove old openholo\n",
        "!rm -rf Openholo\n",
        "# clone openholo source\n",
        "!git clone https://github.com/Openhologram/Openholo.git\n",
        "%cd Openholo\n",
        "!chmod 777 ./Colab/install.sh\n",
        "!./Colab/install.sh -auto"
      ]
    },
    {
      "cell_type": "code",
      "execution_count": null,
      "metadata": {
        "colab": {
          "background_save": true
        },
        "id": "eD1nFHpKwNYF"
      },
      "outputs": [],
      "source": [
        "# Release Build\n",
        "!./Colab/install.sh\n",
        "\n",
        "# Debug Build\n",
        "#!./Colab/install.sh -d"
      ]
    }
  ],
  "metadata": {
    "accelerator": "GPU",
    "colab": {
      "provenance": []
    },
    "kernelspec": {
      "display_name": "Python 3",
      "name": "python3"
    },
    "language_info": {
      "name": "python"
    }
  },
  "nbformat": 4,
  "nbformat_minor": 0
}
